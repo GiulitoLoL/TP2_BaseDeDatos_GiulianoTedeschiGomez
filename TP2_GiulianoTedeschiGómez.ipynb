{
  "cells": [
    {
      "cell_type": "markdown",
      "metadata": {
        "id": "view-in-github",
        "colab_type": "text"
      },
      "source": [
        "<a href=\"https://colab.research.google.com/github/GiulitoLoL/ASO2023TP1b/blob/main/TP2_GiulianoTedeschiG%C3%B3mez.ipynb\" target=\"_parent\"><img src=\"https://colab.research.google.com/assets/colab-badge.svg\" alt=\"Open In Colab\"/></a>"
      ]
    },
    {
      "cell_type": "markdown",
      "source": [
        "# Código de inicialización\n",
        "Este código permite inicializar las bibliotecas para usar SQLite en la máquina virtual de Google Colab. El código además elimina cualquier dato almacenado anteriormente en el archvio `ejemplos.db`. Es recomendable volver a correr el código cada vez que se comience con la resolución de un nuevo ejercicio."
      ],
      "metadata": {
        "id": "QuMn1Lbbdz7p"
      },
      "id": "QuMn1Lbbdz7p"
    },
    {
      "cell_type": "code",
      "execution_count": 1,
      "metadata": {
        "id": "IFHmq0oNKLZQ",
        "colab": {
          "base_uri": "https://localhost:8080/"
        },
        "outputId": "a7e6c4cd-7f68-4fe9-8024-24f5aa3b9152"
      },
      "outputs": [
        {
          "output_type": "stream",
          "name": "stdout",
          "text": [
            "Requirement already satisfied: pymysql in /usr/local/lib/python3.10/dist-packages (1.1.1)\n"
          ]
        }
      ],
      "source": [
        "!pip install pymysql\n",
        "%load_ext sql\n",
        "!rm -rf ejemplos.db\n",
        "%sql sqlite:///ejemplos.db"
      ],
      "id": "IFHmq0oNKLZQ"
    },
    {
      "cell_type": "markdown",
      "id": "4bfd6149",
      "metadata": {
        "id": "4bfd6149"
      },
      "source": [
        "# TP2: Ejercicios de SQL"
      ]
    },
    {
      "cell_type": "markdown",
      "id": "75f13c80",
      "metadata": {
        "id": "75f13c80"
      },
      "source": [
        "\n",
        "## EJERCICIO 1:  Base de datos para un club náutico\n",
        "\n",
        "### Descripción:\n",
        "Se quiere diseñar una base de datos relacional para gestionar los datos de los socios de un club náutico. De cada socio se guardan los datos personales y la información de los barcos que posee:\n",
        "- Número de matrícula, nombre, número de amarre, cuota.\n",
        "\n",
        "Además, se almacena información sobre las salidas realizadas por cada barco:\n",
        "- Fecha y hora de salida, destino y datos del patrón (que no tiene que ser el propietario ni un socio del club).\n",
        "\n",
        "### Esquema propuesto:\n",
        "- Tabla `Socios`: Almacena la información de los socios del club.\n",
        "- Tabla `Barcos`: Almacena la información de los barcos y sus propietarios.\n",
        "- Tabla `Salidas`: Almacena la información de las salidas realizadas por los barcos.\n",
        "\n",
        "### Esquema de tablas\n",
        "Este sería el esquema de tablas en lenguaje DBML\n",
        "\n",
        "```dbml\n",
        "Table Socios {\n",
        "    id_socio INT [pk]\n",
        "    nombre VARCHAR(100)\n",
        "    direccion VARCHAR(255)\n",
        "}\n",
        "\n",
        "Table Barcos {\n",
        "    matricula VARCHAR(20) [pk]\n",
        "    nombre VARCHAR(100)\n",
        "    numero_amarre INT\n",
        "    cuota DECIMAL(10, 2)\n",
        "    id_socio INT [ref: > Socios.id_socio]\n",
        "}\n",
        "\n",
        "Table Salidas {\n",
        "    id_salida INT [pk]\n",
        "    matricula VARCHAR(20) [ref: > Barcos.matricula]\n",
        "    fecha_salida DATE\n",
        "    hora_salida TIME\n",
        "    destino VARCHAR(100)\n",
        "    patron_nombre VARCHAR(100)\n",
        "    patron_direccion VARCHAR(255)\n",
        "}\n",
        "```\n",
        "\n",
        "### Escriba abajo el código SQL necesario para crear las tablas:\n",
        "\n"
      ]
    },
    {
      "cell_type": "code",
      "source": [
        "%%sql\n",
        "CREATE TABLE Socios (\n",
        "    id_socio INT PRIMARY KEY,\n",
        "    nombre VARCHAR(100),\n",
        "    direccion VARCHAR(255)\n",
        ");\n",
        "\n",
        "CREATE TABLE Barcos (\n",
        "    matricula VARCHAR(20) PRIMARY KEY,\n",
        "    nombre VARCHAR(100),\n",
        "    numero_amarre INT,\n",
        "    cuota DECIMAL(10, 2),\n",
        "    id_socio INT,\n",
        "    FOREIGN KEY (id_socio) REFERENCES Socios(id_socio)\n",
        ");\n",
        "\n",
        "CREATE TABLE Salidas (\n",
        "    id_salida INT PRIMARY KEY,\n",
        "    matricula VARCHAR(20),\n",
        "    fecha_salida DATE,\n",
        "    hora_salida TIME,\n",
        "    destino VARCHAR(100),\n",
        "    patron_nombre VARCHAR(100),\n",
        "    patron_direccion VARCHAR(255),\n",
        "    FOREIGN KEY (matricula) REFERENCES Barcos(matricula)\n",
        ");"
      ],
      "metadata": {
        "id": "WQJ1ZlDikHxc",
        "colab": {
          "base_uri": "https://localhost:8080/"
        },
        "outputId": "f3d1610f-851b-44c6-9483-a6b9cd55b55c"
      },
      "id": "WQJ1ZlDikHxc",
      "execution_count": null,
      "outputs": [
        {
          "output_type": "stream",
          "name": "stdout",
          "text": [
            " * sqlite:///ejemplos.db\n",
            "Done.\n",
            "Done.\n",
            "Done.\n"
          ]
        },
        {
          "output_type": "execute_result",
          "data": {
            "text/plain": [
              "[]"
            ]
          },
          "metadata": {},
          "execution_count": 2
        }
      ]
    },
    {
      "cell_type": "markdown",
      "source": [
        "El código SQL de abajo le permite popular (es decir, rellenar) las tablas con datos."
      ],
      "metadata": {
        "id": "CvWQCFgMw6Aw"
      },
      "id": "CvWQCFgMw6Aw"
    },
    {
      "cell_type": "code",
      "source": [
        "%%sql\n",
        "-- Populación de las tablas\n",
        "INSERT INTO Socios (id_socio, nombre, direccion)\n",
        "VALUES\n",
        "(1, 'Juan Pérez', 'Calle Mayor 1, Madrid'),\n",
        "(2, 'Ana García', 'Calle Luna 5, Barcelona'),\n",
        "(3, 'Luis Fernández', 'Avenida del Sol 10, Valencia'),\n",
        "(4, 'Laura Sánchez', 'Plaza del Mar 3, Alicante'),\n",
        "(5, 'Carlos López', 'Calle Río 8, Sevilla'),\n",
        "(6, 'Marta Díaz', 'Calle de la Sierra 12, Zaragoza'),\n",
        "(7, 'Pedro Gómez', 'Calle Nueva 20, Bilbao'),\n",
        "(8, 'Lucía Jiménez', 'Calle Real 30, Madrid'),\n",
        "(9, 'María Torres', 'Calle Verde 15, Málaga'),\n",
        "(10, 'Fernando Martín', 'Calle Azul 25, Murcia');\n",
        "\n",
        "INSERT INTO Barcos (matricula, nombre, numero_amarre, cuota, id_socio)\n",
        "VALUES\n",
        "('ABC123', 'El Viento', 12, 600.50, 1),\n",
        "('DEF456', 'La Brisa', 8, 450.00, 2),\n",
        "('GHI789', 'El Sol', 15, 700.00, 3),\n",
        "('JKL012', 'El Mar', 10, 550.75, 4),\n",
        "('MNO345', 'La Luna', 18, 620.30, 5),\n",
        "('PQR678', 'El Horizonte', 20, 780.90, 6),\n",
        "('STU901', 'El Amanecer', 5, 400.00, 7),\n",
        "('VWX234', 'La Estrella', 7, 520.50, 8),\n",
        "('YZA567', 'La Marea', 14, 480.75, 9),\n",
        "('BCD890', 'El Océano', 6, 630.80, 10);\n",
        "\n",
        "INSERT INTO Salidas (id_salida, matricula, fecha_salida, hora_salida, destino, patron_nombre, patron_direccion)\n",
        "VALUES\n",
        "(1, 'ABC123', '2023-07-15', '10:30:00', 'Mallorca', 'Patrón 1', 'Calle de la Playa 1, Palma'),\n",
        "(2, 'DEF456', '2023-07-20', '09:00:00', 'Ibiza', 'Patrón 2', 'Avenida del Puerto 3, Valencia'),\n",
        "(3, 'GHI789', '2023-07-22', '08:45:00', 'Menorca', 'Patrón 3', 'Calle de la Costa 10, Alicante'),\n",
        "(4, 'JKL012', '2023-07-25', '11:15:00', 'Mallorca', 'Patrón 4', 'Plaza del Faro 5, Barcelona'),\n",
        "(5, 'MNO345', '2023-08-01', '14:00:00', 'Formentera', 'Patrón 5', 'Calle del Puerto 20, Ibiza'),\n",
        "(6, 'PQR678', '2023-08-05', '07:30:00', 'Mallorca', 'Patrón 6', 'Calle de las Olas 15, Palma'),\n",
        "(7, 'STU901', '2023-08-10', '12:00:00', 'Ibiza', 'Patrón 7', 'Avenida de la Marina 7, Barcelona'),\n",
        "(8, 'VWX234', '2023-08-12', '09:30:00', 'Cabrera', 'Patrón 8', 'Calle del Mar 12, Alicante'),\n",
        "(9, 'YZA567', '2023-08-15', '10:00:00', 'Formentera', 'Patrón 9', 'Calle del Sol 4, Ibiza'),\n",
        "(10, 'BCD890', '2023-08-20', '08:00:00', 'Menorca', 'Patrón 10', 'Plaza del Faro 2, Palma');\n"
      ],
      "metadata": {
        "id": "mGeEPoC8luIN",
        "colab": {
          "base_uri": "https://localhost:8080/"
        },
        "outputId": "d8355df1-a0f2-4d10-8625-c4dce7205792"
      },
      "id": "mGeEPoC8luIN",
      "execution_count": null,
      "outputs": [
        {
          "output_type": "stream",
          "name": "stdout",
          "text": [
            " * sqlite:///ejemplos.db\n",
            "10 rows affected.\n",
            "10 rows affected.\n",
            "10 rows affected.\n"
          ]
        },
        {
          "output_type": "execute_result",
          "data": {
            "text/plain": [
              "[]"
            ]
          },
          "metadata": {},
          "execution_count": 3
        }
      ]
    },
    {
      "cell_type": "markdown",
      "source": [
        "### Resolver estas consignas:\n",
        "1. ¿Qué socios tienen barcos amarrados en un número de amarre mayor que 10?"
      ],
      "metadata": {
        "id": "0ofA3-cklW_5"
      },
      "id": "0ofA3-cklW_5"
    },
    {
      "cell_type": "code",
      "source": [
        "%%sql\n",
        "SELECT id_socio, nombre, direccion\n",
        "FROM Socios\n",
        "WHERE id_socio IN (\n",
        "    SELECT id_socio\n",
        "    FROM Barcos\n",
        "    WHERE numero_amarre > 10\n",
        ");"
      ],
      "metadata": {
        "id": "Kbdb2-U7lbJo",
        "colab": {
          "base_uri": "https://localhost:8080/",
          "height": 182
        },
        "outputId": "ee79fb21-b013-4ee2-ce45-6ac707ad1c9f"
      },
      "id": "Kbdb2-U7lbJo",
      "execution_count": null,
      "outputs": [
        {
          "output_type": "stream",
          "name": "stdout",
          "text": [
            " * sqlite:///ejemplos.db\n",
            "Done.\n"
          ]
        },
        {
          "output_type": "execute_result",
          "data": {
            "text/plain": [
              "[(1, 'Juan Pérez', 'Calle Mayor 1, Madrid'),\n",
              " (3, 'Luis Fernández', 'Avenida del Sol 10, Valencia'),\n",
              " (5, 'Carlos López', 'Calle Río 8, Sevilla'),\n",
              " (6, 'Marta Díaz', 'Calle de la Sierra 12, Zaragoza'),\n",
              " (9, 'María Torres', 'Calle Verde 15, Málaga')]"
            ],
            "text/html": [
              "<table>\n",
              "    <thead>\n",
              "        <tr>\n",
              "            <th>id_socio</th>\n",
              "            <th>nombre</th>\n",
              "            <th>direccion</th>\n",
              "        </tr>\n",
              "    </thead>\n",
              "    <tbody>\n",
              "        <tr>\n",
              "            <td>1</td>\n",
              "            <td>Juan Pérez</td>\n",
              "            <td>Calle Mayor 1, Madrid</td>\n",
              "        </tr>\n",
              "        <tr>\n",
              "            <td>3</td>\n",
              "            <td>Luis Fernández</td>\n",
              "            <td>Avenida del Sol 10, Valencia</td>\n",
              "        </tr>\n",
              "        <tr>\n",
              "            <td>5</td>\n",
              "            <td>Carlos López</td>\n",
              "            <td>Calle Río 8, Sevilla</td>\n",
              "        </tr>\n",
              "        <tr>\n",
              "            <td>6</td>\n",
              "            <td>Marta Díaz</td>\n",
              "            <td>Calle de la Sierra 12, Zaragoza</td>\n",
              "        </tr>\n",
              "        <tr>\n",
              "            <td>9</td>\n",
              "            <td>María Torres</td>\n",
              "            <td>Calle Verde 15, Málaga</td>\n",
              "        </tr>\n",
              "    </tbody>\n",
              "</table>"
            ]
          },
          "metadata": {},
          "execution_count": 4
        }
      ]
    },
    {
      "cell_type": "markdown",
      "source": [
        "2. ¿Cuáles son los nombres de los barcos y sus cuotas de aquellos barcos cuyo socio se llama 'Juan Pérez'?"
      ],
      "metadata": {
        "id": "mWRK4z1yl9-X"
      },
      "id": "mWRK4z1yl9-X"
    },
    {
      "cell_type": "code",
      "source": [
        "%%sql\n",
        "SELECT nombre, cuota\n",
        "FROM Barcos\n",
        "WHERE id_socio IN (\n",
        "    SELECT id_socio\n",
        "    FROM Socios\n",
        "    WHERE nombre = 'Juan Pérez'\n",
        ");\n"
      ],
      "metadata": {
        "id": "cZyf9vCpmE-G",
        "colab": {
          "base_uri": "https://localhost:8080/",
          "height": 96
        },
        "outputId": "c58faca9-e4ac-4a67-d707-3bac1301ce16"
      },
      "id": "cZyf9vCpmE-G",
      "execution_count": null,
      "outputs": [
        {
          "output_type": "stream",
          "name": "stdout",
          "text": [
            " * sqlite:///ejemplos.db\n",
            "Done.\n"
          ]
        },
        {
          "output_type": "execute_result",
          "data": {
            "text/plain": [
              "[('El Viento', 600.5)]"
            ],
            "text/html": [
              "<table>\n",
              "    <thead>\n",
              "        <tr>\n",
              "            <th>nombre</th>\n",
              "            <th>cuota</th>\n",
              "        </tr>\n",
              "    </thead>\n",
              "    <tbody>\n",
              "        <tr>\n",
              "            <td>El Viento</td>\n",
              "            <td>600.5</td>\n",
              "        </tr>\n",
              "    </tbody>\n",
              "</table>"
            ]
          },
          "metadata": {},
          "execution_count": 6
        }
      ]
    },
    {
      "cell_type": "markdown",
      "source": [
        "3. ¿Cuántas salidas ha realizado el barco con matrícula 'ABC123'?"
      ],
      "metadata": {
        "id": "pbpnGkeFmPkq"
      },
      "id": "pbpnGkeFmPkq"
    },
    {
      "cell_type": "code",
      "source": [
        "%%sql\n",
        "SELECT COUNT(*) AS total_salidas\n",
        "FROM Salidas\n",
        "WHERE matricula = 'ABC123';\n"
      ],
      "metadata": {
        "id": "nuj5n3DZmS3N",
        "colab": {
          "base_uri": "https://localhost:8080/",
          "height": 96
        },
        "outputId": "c4729620-15bb-42ab-b105-21d6f2933b5c"
      },
      "id": "nuj5n3DZmS3N",
      "execution_count": null,
      "outputs": [
        {
          "output_type": "stream",
          "name": "stdout",
          "text": [
            " * sqlite:///ejemplos.db\n",
            "Done.\n"
          ]
        },
        {
          "output_type": "execute_result",
          "data": {
            "text/plain": [
              "[(1,)]"
            ],
            "text/html": [
              "<table>\n",
              "    <thead>\n",
              "        <tr>\n",
              "            <th>total_salidas</th>\n",
              "        </tr>\n",
              "    </thead>\n",
              "    <tbody>\n",
              "        <tr>\n",
              "            <td>1</td>\n",
              "        </tr>\n",
              "    </tbody>\n",
              "</table>"
            ]
          },
          "metadata": {},
          "execution_count": 8
        }
      ]
    },
    {
      "cell_type": "markdown",
      "source": [
        "4. Lista los barcos que tienen una cuota mayor a 500 y sus respectivos socios."
      ],
      "metadata": {
        "id": "GgyZ5pjymbXx"
      },
      "id": "GgyZ5pjymbXx"
    },
    {
      "cell_type": "code",
      "source": [
        "%%sql\n",
        "SELECT B.nombre AS barco, B.cuota,\n",
        "       (SELECT S.nombre\n",
        "        FROM Socios S\n",
        "        WHERE S.id_socio = B.id_socio) AS socio\n",
        "FROM Barcos B\n",
        "WHERE B.cuota > 500;\n"
      ],
      "metadata": {
        "id": "szEj8t7WmcpA",
        "colab": {
          "base_uri": "https://localhost:8080/",
          "height": 225
        },
        "outputId": "0c1badf3-faef-4f20-e5a4-d5b9e18b5bcf"
      },
      "id": "szEj8t7WmcpA",
      "execution_count": null,
      "outputs": [
        {
          "output_type": "stream",
          "name": "stdout",
          "text": [
            " * sqlite:///ejemplos.db\n",
            "Done.\n"
          ]
        },
        {
          "output_type": "execute_result",
          "data": {
            "text/plain": [
              "[('El Viento', 600.5, 'Juan Pérez'),\n",
              " ('El Sol', 700, 'Luis Fernández'),\n",
              " ('El Mar', 550.75, 'Laura Sánchez'),\n",
              " ('La Luna', 620.3, 'Carlos López'),\n",
              " ('El Horizonte', 780.9, 'Marta Díaz'),\n",
              " ('La Estrella', 520.5, 'Lucía Jiménez'),\n",
              " ('El Océano', 630.8, 'Fernando Martín')]"
            ],
            "text/html": [
              "<table>\n",
              "    <thead>\n",
              "        <tr>\n",
              "            <th>barco</th>\n",
              "            <th>cuota</th>\n",
              "            <th>socio</th>\n",
              "        </tr>\n",
              "    </thead>\n",
              "    <tbody>\n",
              "        <tr>\n",
              "            <td>El Viento</td>\n",
              "            <td>600.5</td>\n",
              "            <td>Juan Pérez</td>\n",
              "        </tr>\n",
              "        <tr>\n",
              "            <td>El Sol</td>\n",
              "            <td>700</td>\n",
              "            <td>Luis Fernández</td>\n",
              "        </tr>\n",
              "        <tr>\n",
              "            <td>El Mar</td>\n",
              "            <td>550.75</td>\n",
              "            <td>Laura Sánchez</td>\n",
              "        </tr>\n",
              "        <tr>\n",
              "            <td>La Luna</td>\n",
              "            <td>620.3</td>\n",
              "            <td>Carlos López</td>\n",
              "        </tr>\n",
              "        <tr>\n",
              "            <td>El Horizonte</td>\n",
              "            <td>780.9</td>\n",
              "            <td>Marta Díaz</td>\n",
              "        </tr>\n",
              "        <tr>\n",
              "            <td>La Estrella</td>\n",
              "            <td>520.5</td>\n",
              "            <td>Lucía Jiménez</td>\n",
              "        </tr>\n",
              "        <tr>\n",
              "            <td>El Océano</td>\n",
              "            <td>630.8</td>\n",
              "            <td>Fernando Martín</td>\n",
              "        </tr>\n",
              "    </tbody>\n",
              "</table>"
            ]
          },
          "metadata": {},
          "execution_count": 13
        }
      ]
    },
    {
      "cell_type": "markdown",
      "source": [],
      "metadata": {
        "id": "BuvaT17Xlbe_"
      },
      "id": "BuvaT17Xlbe_"
    },
    {
      "cell_type": "markdown",
      "source": [
        "5. ¿Qué barcos han salido con destino a 'Mallorca'?"
      ],
      "metadata": {
        "id": "pTl4-C4ymjpp"
      },
      "id": "pTl4-C4ymjpp"
    },
    {
      "cell_type": "code",
      "source": [
        "%%sql\n",
        "SELECT nombre, matricula\n",
        "FROM Barcos\n",
        "WHERE matricula IN (\n",
        "    SELECT matricula\n",
        "    FROM Salidas\n",
        "    WHERE destino = 'Mallorca'\n",
        ");\n"
      ],
      "metadata": {
        "id": "tzlnW9Etmo8L",
        "colab": {
          "base_uri": "https://localhost:8080/",
          "height": 139
        },
        "outputId": "22cd7112-cc07-494f-d0c4-a9e917b99f62"
      },
      "id": "tzlnW9Etmo8L",
      "execution_count": null,
      "outputs": [
        {
          "output_type": "stream",
          "name": "stdout",
          "text": [
            " * sqlite:///ejemplos.db\n",
            "Done.\n"
          ]
        },
        {
          "output_type": "execute_result",
          "data": {
            "text/plain": [
              "[('El Viento', 'ABC123'), ('El Mar', 'JKL012'), ('El Horizonte', 'PQR678')]"
            ],
            "text/html": [
              "<table>\n",
              "    <thead>\n",
              "        <tr>\n",
              "            <th>nombre</th>\n",
              "            <th>matricula</th>\n",
              "        </tr>\n",
              "    </thead>\n",
              "    <tbody>\n",
              "        <tr>\n",
              "            <td>El Viento</td>\n",
              "            <td>ABC123</td>\n",
              "        </tr>\n",
              "        <tr>\n",
              "            <td>El Mar</td>\n",
              "            <td>JKL012</td>\n",
              "        </tr>\n",
              "        <tr>\n",
              "            <td>El Horizonte</td>\n",
              "            <td>PQR678</td>\n",
              "        </tr>\n",
              "    </tbody>\n",
              "</table>"
            ]
          },
          "metadata": {},
          "execution_count": 14
        }
      ]
    },
    {
      "cell_type": "markdown",
      "source": [
        "6. ¿Qué patrones (nombre y dirección) han llevado un barco cuyo socio vive en 'Barcelona'?"
      ],
      "metadata": {
        "id": "GsLPyY6WmtEn"
      },
      "id": "GsLPyY6WmtEn"
    },
    {
      "cell_type": "code",
      "source": [
        "%%sql\n",
        "SELECT patron_nombre, patron_direccion\n",
        "FROM Salidas\n",
        "WHERE matricula IN (\n",
        "    SELECT matricula\n",
        "    FROM Barcos\n",
        "    WHERE id_socio IN (\n",
        "        SELECT id_socio\n",
        "        FROM Socios\n",
        "        WHERE direccion = 'Barcelona'\n",
        "    )\n",
        ");\n"
      ],
      "metadata": {
        "id": "AZJDPqvbmvOK",
        "colab": {
          "base_uri": "https://localhost:8080/",
          "height": 75
        },
        "outputId": "0d13b1cd-35c5-4696-eede-ed0347ae3226"
      },
      "id": "AZJDPqvbmvOK",
      "execution_count": null,
      "outputs": [
        {
          "output_type": "stream",
          "name": "stdout",
          "text": [
            " * sqlite:///ejemplos.db\n",
            "Done.\n"
          ]
        },
        {
          "output_type": "execute_result",
          "data": {
            "text/plain": [
              "[]"
            ],
            "text/html": [
              "<table>\n",
              "    <thead>\n",
              "        <tr>\n",
              "            <th>patron_nombre</th>\n",
              "            <th>patron_direccion</th>\n",
              "        </tr>\n",
              "    </thead>\n",
              "    <tbody>\n",
              "    </tbody>\n",
              "</table>"
            ]
          },
          "metadata": {},
          "execution_count": 16
        }
      ]
    },
    {
      "cell_type": "markdown",
      "source": [
        "### Repetir los incisos usando JOIN\n",
        "1. ¿Qué socios tienen barcos amarrados en un número de amarre mayor que 10?"
      ],
      "metadata": {
        "id": "ox9iE2T6j6Qe"
      },
      "id": "ox9iE2T6j6Qe"
    },
    {
      "cell_type": "code",
      "source": [
        "%%sql\n",
        "SELECT DISTINCT S.id_socio, S.nombre, S.direccion\n",
        "FROM Socios S\n",
        "JOIN Barcos B ON S.id_socio = B.id_socio\n",
        "WHERE B.numero_amarre > 10;\n"
      ],
      "metadata": {
        "id": "GLzT8mCxALp4",
        "colab": {
          "base_uri": "https://localhost:8080/",
          "height": 182
        },
        "outputId": "ffe4725b-3d5f-4299-c067-868577d8f31a"
      },
      "id": "GLzT8mCxALp4",
      "execution_count": null,
      "outputs": [
        {
          "output_type": "stream",
          "name": "stdout",
          "text": [
            " * sqlite:///ejemplos.db\n",
            "Done.\n"
          ]
        },
        {
          "output_type": "execute_result",
          "data": {
            "text/plain": [
              "[(1, 'Juan Pérez', 'Calle Mayor 1, Madrid'),\n",
              " (3, 'Luis Fernández', 'Avenida del Sol 10, Valencia'),\n",
              " (5, 'Carlos López', 'Calle Río 8, Sevilla'),\n",
              " (6, 'Marta Díaz', 'Calle de la Sierra 12, Zaragoza'),\n",
              " (9, 'María Torres', 'Calle Verde 15, Málaga')]"
            ],
            "text/html": [
              "<table>\n",
              "    <thead>\n",
              "        <tr>\n",
              "            <th>id_socio</th>\n",
              "            <th>nombre</th>\n",
              "            <th>direccion</th>\n",
              "        </tr>\n",
              "    </thead>\n",
              "    <tbody>\n",
              "        <tr>\n",
              "            <td>1</td>\n",
              "            <td>Juan Pérez</td>\n",
              "            <td>Calle Mayor 1, Madrid</td>\n",
              "        </tr>\n",
              "        <tr>\n",
              "            <td>3</td>\n",
              "            <td>Luis Fernández</td>\n",
              "            <td>Avenida del Sol 10, Valencia</td>\n",
              "        </tr>\n",
              "        <tr>\n",
              "            <td>5</td>\n",
              "            <td>Carlos López</td>\n",
              "            <td>Calle Río 8, Sevilla</td>\n",
              "        </tr>\n",
              "        <tr>\n",
              "            <td>6</td>\n",
              "            <td>Marta Díaz</td>\n",
              "            <td>Calle de la Sierra 12, Zaragoza</td>\n",
              "        </tr>\n",
              "        <tr>\n",
              "            <td>9</td>\n",
              "            <td>María Torres</td>\n",
              "            <td>Calle Verde 15, Málaga</td>\n",
              "        </tr>\n",
              "    </tbody>\n",
              "</table>"
            ]
          },
          "metadata": {},
          "execution_count": 5
        }
      ]
    },
    {
      "cell_type": "markdown",
      "source": [
        "2. ¿Cuáles son los nombres de los barcos y sus cuotas de aquellos barcos cuyo socio se llama 'Juan Pérez'?"
      ],
      "metadata": {
        "id": "mJJkAhkVAw4N"
      },
      "id": "mJJkAhkVAw4N"
    },
    {
      "cell_type": "code",
      "source": [
        "%%sql\n",
        "SELECT B.nombre, B.cuota\n",
        "FROM Barcos B\n",
        "JOIN Socios S ON B.id_socio = S.id_socio\n",
        "WHERE S.nombre = 'Juan Pérez';\n"
      ],
      "metadata": {
        "id": "PnZz1YO8A-tk",
        "colab": {
          "base_uri": "https://localhost:8080/",
          "height": 96
        },
        "outputId": "f4e67a61-cd62-41d9-e4b6-eaaf654c1ed1"
      },
      "id": "PnZz1YO8A-tk",
      "execution_count": null,
      "outputs": [
        {
          "output_type": "stream",
          "name": "stdout",
          "text": [
            " * sqlite:///ejemplos.db\n",
            "Done.\n"
          ]
        },
        {
          "output_type": "execute_result",
          "data": {
            "text/plain": [
              "[('El Viento', 600.5)]"
            ],
            "text/html": [
              "<table>\n",
              "    <thead>\n",
              "        <tr>\n",
              "            <th>nombre</th>\n",
              "            <th>cuota</th>\n",
              "        </tr>\n",
              "    </thead>\n",
              "    <tbody>\n",
              "        <tr>\n",
              "            <td>El Viento</td>\n",
              "            <td>600.5</td>\n",
              "        </tr>\n",
              "    </tbody>\n",
              "</table>"
            ]
          },
          "metadata": {},
          "execution_count": 7
        }
      ]
    },
    {
      "cell_type": "markdown",
      "source": [
        "3. ¿Cuántas salidas ha realizado el barco con matrícula 'ABC123'?"
      ],
      "metadata": {
        "id": "yk0e4EqFA2Wi"
      },
      "id": "yk0e4EqFA2Wi"
    },
    {
      "cell_type": "code",
      "source": [
        "%%sql\n",
        "SELECT COUNT(S.id_salida) AS total_salidas\n",
        "FROM Salidas S\n",
        "JOIN Barcos B ON S.matricula = B.matricula\n",
        "WHERE B.matricula = 'ABC123';\n"
      ],
      "metadata": {
        "id": "DnZcgiyAA7IX",
        "colab": {
          "base_uri": "https://localhost:8080/",
          "height": 96
        },
        "outputId": "3e1371e0-e4d7-41c0-c47d-5454caedff42"
      },
      "id": "DnZcgiyAA7IX",
      "execution_count": null,
      "outputs": [
        {
          "output_type": "stream",
          "name": "stdout",
          "text": [
            " * sqlite:///ejemplos.db\n",
            "Done.\n"
          ]
        },
        {
          "output_type": "execute_result",
          "data": {
            "text/plain": [
              "[(1,)]"
            ],
            "text/html": [
              "<table>\n",
              "    <thead>\n",
              "        <tr>\n",
              "            <th>total_salidas</th>\n",
              "        </tr>\n",
              "    </thead>\n",
              "    <tbody>\n",
              "        <tr>\n",
              "            <td>1</td>\n",
              "        </tr>\n",
              "    </tbody>\n",
              "</table>"
            ]
          },
          "metadata": {},
          "execution_count": 9
        }
      ]
    },
    {
      "cell_type": "markdown",
      "source": [
        "4. Lista los barcos que tienen una cuota mayor a 500 y sus respectivos socios."
      ],
      "metadata": {
        "id": "Qeloyr4lBBNt"
      },
      "id": "Qeloyr4lBBNt"
    },
    {
      "cell_type": "code",
      "source": [
        "%%sql\n",
        "SELECT B.nombre AS barco, B.cuota, S.nombre AS socio\n",
        "FROM Barcos B\n",
        "JOIN Socios S ON B.id_socio = S.id_socio\n",
        "WHERE B.cuota > 500;"
      ],
      "metadata": {
        "id": "nfsIe3C3BCkR",
        "colab": {
          "base_uri": "https://localhost:8080/",
          "height": 225
        },
        "outputId": "d6e24cbe-3af0-48d6-95ce-219050b0e6df"
      },
      "id": "nfsIe3C3BCkR",
      "execution_count": null,
      "outputs": [
        {
          "output_type": "stream",
          "name": "stdout",
          "text": [
            " * sqlite:///ejemplos.db\n",
            "Done.\n"
          ]
        },
        {
          "output_type": "execute_result",
          "data": {
            "text/plain": [
              "[('El Viento', 600.5, 'Juan Pérez'),\n",
              " ('El Sol', 700, 'Luis Fernández'),\n",
              " ('El Mar', 550.75, 'Laura Sánchez'),\n",
              " ('La Luna', 620.3, 'Carlos López'),\n",
              " ('El Horizonte', 780.9, 'Marta Díaz'),\n",
              " ('La Estrella', 520.5, 'Lucía Jiménez'),\n",
              " ('El Océano', 630.8, 'Fernando Martín')]"
            ],
            "text/html": [
              "<table>\n",
              "    <thead>\n",
              "        <tr>\n",
              "            <th>barco</th>\n",
              "            <th>cuota</th>\n",
              "            <th>socio</th>\n",
              "        </tr>\n",
              "    </thead>\n",
              "    <tbody>\n",
              "        <tr>\n",
              "            <td>El Viento</td>\n",
              "            <td>600.5</td>\n",
              "            <td>Juan Pérez</td>\n",
              "        </tr>\n",
              "        <tr>\n",
              "            <td>El Sol</td>\n",
              "            <td>700</td>\n",
              "            <td>Luis Fernández</td>\n",
              "        </tr>\n",
              "        <tr>\n",
              "            <td>El Mar</td>\n",
              "            <td>550.75</td>\n",
              "            <td>Laura Sánchez</td>\n",
              "        </tr>\n",
              "        <tr>\n",
              "            <td>La Luna</td>\n",
              "            <td>620.3</td>\n",
              "            <td>Carlos López</td>\n",
              "        </tr>\n",
              "        <tr>\n",
              "            <td>El Horizonte</td>\n",
              "            <td>780.9</td>\n",
              "            <td>Marta Díaz</td>\n",
              "        </tr>\n",
              "        <tr>\n",
              "            <td>La Estrella</td>\n",
              "            <td>520.5</td>\n",
              "            <td>Lucía Jiménez</td>\n",
              "        </tr>\n",
              "        <tr>\n",
              "            <td>El Océano</td>\n",
              "            <td>630.8</td>\n",
              "            <td>Fernando Martín</td>\n",
              "        </tr>\n",
              "    </tbody>\n",
              "</table>"
            ]
          },
          "metadata": {},
          "execution_count": 11
        }
      ]
    },
    {
      "cell_type": "markdown",
      "source": [
        "5. ¿Qué barcos han salido con destino a 'Mallorca'?"
      ],
      "metadata": {
        "id": "GMqo1KlDBFwm"
      },
      "id": "GMqo1KlDBFwm"
    },
    {
      "cell_type": "code",
      "source": [
        "%%sql\n",
        "SELECT B.nombre AS barco, B.matricula\n",
        "FROM Barcos B\n",
        "JOIN Salidas S ON B.matricula = S.matricula\n",
        "WHERE S.destino = 'Mallorca';\n"
      ],
      "metadata": {
        "id": "etjf3fFgBFd-",
        "colab": {
          "base_uri": "https://localhost:8080/",
          "height": 139
        },
        "outputId": "c7b3d225-4f6d-43ec-f8e3-8d1ff85b2a4d"
      },
      "id": "etjf3fFgBFd-",
      "execution_count": null,
      "outputs": [
        {
          "output_type": "stream",
          "name": "stdout",
          "text": [
            " * sqlite:///ejemplos.db\n",
            "Done.\n"
          ]
        },
        {
          "output_type": "execute_result",
          "data": {
            "text/plain": [
              "[('El Viento', 'ABC123'), ('El Mar', 'JKL012'), ('El Horizonte', 'PQR678')]"
            ],
            "text/html": [
              "<table>\n",
              "    <thead>\n",
              "        <tr>\n",
              "            <th>barco</th>\n",
              "            <th>matricula</th>\n",
              "        </tr>\n",
              "    </thead>\n",
              "    <tbody>\n",
              "        <tr>\n",
              "            <td>El Viento</td>\n",
              "            <td>ABC123</td>\n",
              "        </tr>\n",
              "        <tr>\n",
              "            <td>El Mar</td>\n",
              "            <td>JKL012</td>\n",
              "        </tr>\n",
              "        <tr>\n",
              "            <td>El Horizonte</td>\n",
              "            <td>PQR678</td>\n",
              "        </tr>\n",
              "    </tbody>\n",
              "</table>"
            ]
          },
          "metadata": {},
          "execution_count": 15
        }
      ]
    },
    {
      "cell_type": "markdown",
      "source": [
        "6. ¿Qué patrones (nombre y dirección) han llevado un barco cuyo socio vive en 'Barcelona'?"
      ],
      "metadata": {
        "id": "4rDZTOCSBJQJ"
      },
      "id": "4rDZTOCSBJQJ"
    },
    {
      "cell_type": "code",
      "source": [
        "%%sql\n",
        "SELECT S.patron_nombre, S.patron_direccion\n",
        "FROM Salidas S\n",
        "JOIN Barcos B ON S.matricula = B.matricula\n",
        "JOIN Socios Soc ON B.id_socio = Soc.id_socio\n",
        "WHERE Soc.direccion = 'Barcelona';\n"
      ],
      "metadata": {
        "id": "s6MRh7hHBKMb",
        "colab": {
          "base_uri": "https://localhost:8080/",
          "height": 75
        },
        "outputId": "934e4636-2a28-453b-f1a3-3b281459e68b"
      },
      "id": "s6MRh7hHBKMb",
      "execution_count": null,
      "outputs": [
        {
          "output_type": "stream",
          "name": "stdout",
          "text": [
            " * sqlite:///ejemplos.db\n",
            "Done.\n"
          ]
        },
        {
          "output_type": "execute_result",
          "data": {
            "text/plain": [
              "[]"
            ],
            "text/html": [
              "<table>\n",
              "    <thead>\n",
              "        <tr>\n",
              "            <th>patron_nombre</th>\n",
              "            <th>patron_direccion</th>\n",
              "        </tr>\n",
              "    </thead>\n",
              "    <tbody>\n",
              "    </tbody>\n",
              "</table>"
            ]
          },
          "metadata": {},
          "execution_count": 20
        }
      ]
    },
    {
      "cell_type": "markdown",
      "id": "d3111595",
      "metadata": {
        "id": "d3111595"
      },
      "source": [
        "\n",
        "## EJERCICIO 2: Base de datos para un gabinete de abogados\n",
        "\n",
        "### Descripción:\n",
        "Se quiere diseñar una base de datos relacional para almacenar información sobre los asuntos que lleva un gabinete de abogados. Cada asunto tiene un número de expediente que lo identifica y corresponde a un solo cliente. Del asunto se debe almacenar:\n",
        "- Período (fecha de inicio y fecha de archivo o finalización)\n",
        "- Estado (en trámite, archivado, etc.)\n",
        "- Datos personales del cliente (DNI, nombre, dirección, etc.)\n",
        "\n",
        "Algunos asuntos son llevados por uno o varios procuradores, de los que nos interesa también almacenar los datos personales.\n",
        "\n",
        "### Esquema propuesto:\n",
        "- Tabla `Clientes`: Almacena la información de los clientes: dni (clave primaria), nombre y dirección.\n",
        "- Tabla `Asuntos`: Almacena la información de los asuntos: numero de expediente (clave primaria), dni del cliente (clave externa), fecha de inicio, fecha de fin y estado (Abierto o Cerrado). Si el asunto está abierto, no tiene fecha de fin.\n",
        "- Tabla `Procuradores`: Almacena la información de los procuradores: id del procurador (clave priaria), nombre y dirección.\n",
        "- Tabla `Asuntos_Procuradores`: Relaciona los asuntos con los procuradores (muchos a muchos).\n",
        "\n",
        "### SQL para crear las tablas:\n"
      ]
    },
    {
      "cell_type": "code",
      "source": [
        "%%sql\n",
        "-- Tabla Clientes\n",
        "CREATE TABLE Clientes (\n",
        "    dni VARCHAR(20) PRIMARY KEY,\n",
        "    nombre VARCHAR(100) NOT NULL,\n",
        "    direccion VARCHAR(255) NOT NULL\n",
        ");\n",
        "\n",
        "-- Tabla Asuntos\n",
        "CREATE TABLE Asuntos (\n",
        "    numero_expediente INT PRIMARY KEY,\n",
        "    dni_cliente VARCHAR(20),\n",
        "    fecha_inicio DATE NOT NULL,\n",
        "    fecha_fin DATE,\n",
        "    estado VARCHAR(10) NOT NULL CHECK (estado IN ('Abierto', 'Cerrado')),\n",
        "    FOREIGN KEY (dni_cliente) REFERENCES Clientes(dni)\n",
        ");\n",
        "\n",
        "-- Tabla Procuradores\n",
        "CREATE TABLE Procuradores (\n",
        "    id_procurador INT PRIMARY KEY,\n",
        "    nombre VARCHAR(100) NOT NULL,\n",
        "    direccion VARCHAR(255) NOT NULL\n",
        ");\n",
        "\n",
        "-- Tabla Asuntos_Procuradores\n",
        "CREATE TABLE Asuntos_Procuradores (\n",
        "    numero_expediente INT,\n",
        "    id_procurador INT,\n",
        "    PRIMARY KEY (numero_expediente, id_procurador),\n",
        "    FOREIGN KEY (numero_expediente) REFERENCES Asuntos(numero_expediente),\n",
        "    FOREIGN KEY (id_procurador) REFERENCES Procuradores(id_procurador)\n",
        ");\n"
      ],
      "metadata": {
        "id": "QtKIwysZeNtz",
        "colab": {
          "base_uri": "https://localhost:8080/"
        },
        "outputId": "936fbea9-3f49-40a6-c8d3-e8ec8d4951ab"
      },
      "id": "QtKIwysZeNtz",
      "execution_count": 2,
      "outputs": [
        {
          "output_type": "stream",
          "name": "stdout",
          "text": [
            " * sqlite:///ejemplos.db\n",
            "Done.\n",
            "Done.\n",
            "Done.\n",
            "Done.\n"
          ]
        },
        {
          "output_type": "execute_result",
          "data": {
            "text/plain": [
              "[]"
            ]
          },
          "metadata": {},
          "execution_count": 2
        }
      ]
    },
    {
      "cell_type": "markdown",
      "source": [],
      "metadata": {
        "id": "Yhom8Hjlesap"
      },
      "id": "Yhom8Hjlesap"
    },
    {
      "cell_type": "code",
      "source": [
        "%%sql\n",
        "-- Poblar la tabla Clientes\n",
        "INSERT INTO Clientes (dni, nombre, direccion)\n",
        "VALUES\n",
        "('123456789', 'Juan Pérez', 'Calle Pueyrredón 3498, Buenos Aires'),\n",
        "('987654321', 'Ana García', 'Calle 5 323, La Plata'),\n",
        "('456123789', 'Luis Fernández', 'Avenida de Gral. Paz 1056, Bahía Blanca');\n",
        "\n",
        "-- Poblar la tabla Asuntos\n",
        "INSERT INTO Asuntos (numero_expediente, dni_cliente, fecha_inicio, fecha_fin, estado)\n",
        "VALUES\n",
        "(1, '123456789', '2023-01-15', '2023-07-20', 'Cerrado'),\n",
        "(2, '987654321', '2023-05-10', NULL, 'Abierto'),\n",
        "(3, '456123789', '2023-06-01', '2023-09-10', 'Cerrado');\n",
        "\n",
        "-- Poblar la tabla Procuradores\n",
        "INSERT INTO Procuradores (id_procurador, nombre, direccion)\n",
        "VALUES\n",
        "(1, 'Laura Sánchez', 'Calle Soler 3765, Buenos Aires'),\n",
        "(2, 'Carlos López', 'Calle Estrellas 8, Mar del Plata'),\n",
        "(3, 'Marta Díaz', 'Calle Estación 12, Olavarria');\n",
        "\n",
        "-- Poblar la tabla Asuntos_Procuradores\n",
        "INSERT INTO Asuntos_Procuradores (numero_expediente, id_procurador)\n",
        "VALUES\n",
        "(1, 1),\n",
        "(2, 2),\n",
        "(3, 3),\n",
        "(2, 1);  -- Un asunto puede tener varios procuradores"
      ],
      "metadata": {
        "id": "5o4a19qHetVz",
        "colab": {
          "base_uri": "https://localhost:8080/"
        },
        "outputId": "1c1a9638-c9b9-4d79-853d-4a09f5b70ddd"
      },
      "id": "5o4a19qHetVz",
      "execution_count": 3,
      "outputs": [
        {
          "output_type": "stream",
          "name": "stdout",
          "text": [
            " * sqlite:///ejemplos.db\n",
            "3 rows affected.\n",
            "3 rows affected.\n",
            "3 rows affected.\n",
            "4 rows affected.\n"
          ]
        },
        {
          "output_type": "execute_result",
          "data": {
            "text/plain": [
              "[]"
            ]
          },
          "metadata": {},
          "execution_count": 3
        }
      ]
    },
    {
      "cell_type": "markdown",
      "source": [
        "### Resolver estas consignas sin usar JOIN:\n",
        "1. ¿Cuál es el nombre y la dirección de los procuradores que han trabajado en un asunto abierto?"
      ],
      "metadata": {
        "id": "OvOaPQYTgkBJ"
      },
      "id": "OvOaPQYTgkBJ"
    },
    {
      "cell_type": "code",
      "source": [
        "%%sql\n",
        "SELECT DISTINCT P.nombre, P.direccion\n",
        "FROM Procuradores P\n",
        "WHERE P.id_procurador IN (\n",
        "    SELECT AP.id_procurador\n",
        "    FROM Asuntos_Procuradores AP\n",
        "    WHERE AP.numero_expediente IN (\n",
        "        SELECT A.numero_expediente\n",
        "        FROM Asuntos A\n",
        "        WHERE A.estado = 'Abierto'\n",
        "    )\n",
        ");\n"
      ],
      "metadata": {
        "id": "ZO891c6ZgrZm",
        "colab": {
          "base_uri": "https://localhost:8080/",
          "height": 118
        },
        "outputId": "10e1fa28-c992-475a-b378-b34494bb8613"
      },
      "id": "ZO891c6ZgrZm",
      "execution_count": 4,
      "outputs": [
        {
          "output_type": "stream",
          "name": "stdout",
          "text": [
            " * sqlite:///ejemplos.db\n",
            "Done.\n"
          ]
        },
        {
          "output_type": "execute_result",
          "data": {
            "text/plain": [
              "[('Laura Sánchez', 'Calle Soler 3765, Buenos Aires'),\n",
              " ('Carlos López', 'Calle Estrellas 8, Mar del Plata')]"
            ],
            "text/html": [
              "<table>\n",
              "    <thead>\n",
              "        <tr>\n",
              "            <th>nombre</th>\n",
              "            <th>direccion</th>\n",
              "        </tr>\n",
              "    </thead>\n",
              "    <tbody>\n",
              "        <tr>\n",
              "            <td>Laura Sánchez</td>\n",
              "            <td>Calle Soler 3765, Buenos Aires</td>\n",
              "        </tr>\n",
              "        <tr>\n",
              "            <td>Carlos López</td>\n",
              "            <td>Calle Estrellas 8, Mar del Plata</td>\n",
              "        </tr>\n",
              "    </tbody>\n",
              "</table>"
            ]
          },
          "metadata": {},
          "execution_count": 4
        }
      ]
    },
    {
      "cell_type": "markdown",
      "source": [
        "2. ¿Qué clientes han tenido asuntos en los que ha participado el procurador Carlos López?"
      ],
      "metadata": {
        "id": "Y5qojbXWg9mh"
      },
      "id": "Y5qojbXWg9mh"
    },
    {
      "cell_type": "code",
      "source": [
        "%%sql\n",
        "SELECT DISTINCT C.nombre, C.direccion\n",
        "FROM Clientes C\n",
        "WHERE C.dni IN (\n",
        "    SELECT A.dni_cliente\n",
        "    FROM Asuntos A\n",
        "    WHERE A.numero_expediente IN (\n",
        "        SELECT AP.numero_expediente\n",
        "        FROM Asuntos_Procuradores AP\n",
        "        WHERE AP.id_procurador IN (\n",
        "            SELECT P.id_procurador\n",
        "            FROM Procuradores P\n",
        "            WHERE P.nombre = 'Carlos López'\n",
        "        )\n",
        "    )\n",
        ");\n"
      ],
      "metadata": {
        "id": "JlQjPghDhBrj",
        "colab": {
          "base_uri": "https://localhost:8080/",
          "height": 96
        },
        "outputId": "f75faacc-558b-420b-a350-be635c462a4f"
      },
      "id": "JlQjPghDhBrj",
      "execution_count": 5,
      "outputs": [
        {
          "output_type": "stream",
          "name": "stdout",
          "text": [
            " * sqlite:///ejemplos.db\n",
            "Done.\n"
          ]
        },
        {
          "output_type": "execute_result",
          "data": {
            "text/plain": [
              "[('Ana García', 'Calle 5 323, La Plata')]"
            ],
            "text/html": [
              "<table>\n",
              "    <thead>\n",
              "        <tr>\n",
              "            <th>nombre</th>\n",
              "            <th>direccion</th>\n",
              "        </tr>\n",
              "    </thead>\n",
              "    <tbody>\n",
              "        <tr>\n",
              "            <td>Ana García</td>\n",
              "            <td>Calle 5 323, La Plata</td>\n",
              "        </tr>\n",
              "    </tbody>\n",
              "</table>"
            ]
          },
          "metadata": {},
          "execution_count": 5
        }
      ]
    },
    {
      "cell_type": "markdown",
      "source": [
        "3. ¿Cuántos asuntos ha gestionado cada procurador?"
      ],
      "metadata": {
        "id": "1NfxB7M6hKsX"
      },
      "id": "1NfxB7M6hKsX"
    },
    {
      "cell_type": "code",
      "source": [
        "%%sql\n",
        "SELECT P.id_procurador, P.nombre,\n",
        "       (SELECT COUNT(*)\n",
        "        FROM Asuntos_Procuradores AP\n",
        "        WHERE AP.id_procurador = P.id_procurador) AS total_asuntos\n",
        "FROM Procuradores P;\n"
      ],
      "metadata": {
        "id": "kZHFCFX0hS5-",
        "colab": {
          "base_uri": "https://localhost:8080/",
          "height": 139
        },
        "outputId": "31edf3ae-9a1e-4350-c024-c36118253374"
      },
      "id": "kZHFCFX0hS5-",
      "execution_count": 6,
      "outputs": [
        {
          "output_type": "stream",
          "name": "stdout",
          "text": [
            " * sqlite:///ejemplos.db\n",
            "Done.\n"
          ]
        },
        {
          "output_type": "execute_result",
          "data": {
            "text/plain": [
              "[(1, 'Laura Sánchez', 2), (2, 'Carlos López', 1), (3, 'Marta Díaz', 1)]"
            ],
            "text/html": [
              "<table>\n",
              "    <thead>\n",
              "        <tr>\n",
              "            <th>id_procurador</th>\n",
              "            <th>nombre</th>\n",
              "            <th>total_asuntos</th>\n",
              "        </tr>\n",
              "    </thead>\n",
              "    <tbody>\n",
              "        <tr>\n",
              "            <td>1</td>\n",
              "            <td>Laura Sánchez</td>\n",
              "            <td>2</td>\n",
              "        </tr>\n",
              "        <tr>\n",
              "            <td>2</td>\n",
              "            <td>Carlos López</td>\n",
              "            <td>1</td>\n",
              "        </tr>\n",
              "        <tr>\n",
              "            <td>3</td>\n",
              "            <td>Marta Díaz</td>\n",
              "            <td>1</td>\n",
              "        </tr>\n",
              "    </tbody>\n",
              "</table>"
            ]
          },
          "metadata": {},
          "execution_count": 6
        }
      ]
    },
    {
      "cell_type": "markdown",
      "source": [
        "4. Lista los números de expediente y fechas de inicio de los asuntos de los clientes que viven en Buenos Aires."
      ],
      "metadata": {
        "id": "zHUFuerKhjc2"
      },
      "id": "zHUFuerKhjc2"
    },
    {
      "cell_type": "code",
      "source": [
        "%%sql\n",
        "SELECT A.numero_expediente, A.fecha_inicio\n",
        "FROM Asuntos A\n",
        "WHERE A.dni_cliente IN (\n",
        "    SELECT C.dni\n",
        "    FROM Clientes C\n",
        "    WHERE C.direccion LIKE '%Buenos Aires%'\n",
        ");\n"
      ],
      "metadata": {
        "id": "9RDQt_5lipod",
        "colab": {
          "base_uri": "https://localhost:8080/",
          "height": 96
        },
        "outputId": "8aa6d626-b05d-4ebd-d3ac-8439e938075f"
      },
      "id": "9RDQt_5lipod",
      "execution_count": 7,
      "outputs": [
        {
          "output_type": "stream",
          "name": "stdout",
          "text": [
            " * sqlite:///ejemplos.db\n",
            "Done.\n"
          ]
        },
        {
          "output_type": "execute_result",
          "data": {
            "text/plain": [
              "[(1, '2023-01-15')]"
            ],
            "text/html": [
              "<table>\n",
              "    <thead>\n",
              "        <tr>\n",
              "            <th>numero_expediente</th>\n",
              "            <th>fecha_inicio</th>\n",
              "        </tr>\n",
              "    </thead>\n",
              "    <tbody>\n",
              "        <tr>\n",
              "            <td>1</td>\n",
              "            <td>2023-01-15</td>\n",
              "        </tr>\n",
              "    </tbody>\n",
              "</table>"
            ]
          },
          "metadata": {},
          "execution_count": 7
        }
      ]
    },
    {
      "cell_type": "markdown",
      "source": [
        "# Entrega\n",
        "La entrega consiste en completar esta hoja y subirla a su repositorio GIT\n",
        "Se deben entregar también los diagramas de esquema de tablas como imagenes aparte.\n",
        "Fecha límite: 30 de septiembre a las 23:59 hs"
      ],
      "metadata": {
        "id": "aIF74m2eV9J9"
      },
      "id": "aIF74m2eV9J9"
    }
  ],
  "metadata": {
    "colab": {
      "provenance": [],
      "include_colab_link": true
    },
    "language_info": {
      "name": "python"
    },
    "kernelspec": {
      "name": "python3",
      "display_name": "Python 3"
    }
  },
  "nbformat": 4,
  "nbformat_minor": 5
}